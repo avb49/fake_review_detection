{
 "cells": [
  {
   "cell_type": "markdown",
   "metadata": {},
   "source": [
    "## Processing of Yelp SQLite dataset"
   ]
  },
  {
   "cell_type": "markdown",
   "metadata": {},
   "source": [
    "#### 1. Import required libraries:"
   ]
  },
  {
   "cell_type": "code",
   "execution_count": 1,
   "metadata": {},
   "outputs": [],
   "source": [
    "# import framework to work with sqlite database in Python\n",
    "import sqlite3\n",
    "# pandas will be used for manipulating data sets retrieved from the database file\n",
    "import pandas as pd\n",
    "import unicodedata\n",
    "# pickle will be used to serialise the prepared dataframe to be loaded later\n",
    "import pickle"
   ]
  },
  {
   "cell_type": "markdown",
   "metadata": {},
   "source": [
    "#### 2. Create connection to SQLite database file and specify what format to return objects in:"
   ]
  },
  {
   "cell_type": "code",
   "execution_count": 2,
   "metadata": {},
   "outputs": [],
   "source": [
    "# set up connection to the database\n",
    "connection = sqlite3.connect(\"yelpResData.db\")\n",
    "# create cursor object for interaction with the database\n",
    "cur = connection.cursor()\n",
    "# specify how to handle bytes in database\n",
    "connection.text_factory = lambda x: str(x, 'utf-8', 'ignore')\n",
    "\n",
    "# previously attempted text factories below\n",
    "#connection.text_factory = bytes\n",
    "#connection.text_factory = lambda x: str(x, 'iso-8859-1')"
   ]
  },
  {
   "cell_type": "markdown",
   "metadata": {},
   "source": [
    "#### 3. Query the database to get all table names:"
   ]
  },
  {
   "cell_type": "code",
   "execution_count": 3,
   "metadata": {},
   "outputs": [
    {
     "name": "stdout",
     "output_type": "stream",
     "text": [
      "[('review',), ('restaurant',), ('reviewer',)]\n"
     ]
    }
   ],
   "source": [
    "cur.execute(\"SELECT name FROM sqlite_master WHERE type='table';\")\n",
    "print(cur.fetchall())"
   ]
  },
  {
   "cell_type": "markdown",
   "metadata": {},
   "source": [
    "#### 4. Query each table in the database and import the output into a pandas dataframe:"
   ]
  },
  {
   "cell_type": "code",
   "execution_count": 4,
   "metadata": {},
   "outputs": [],
   "source": [
    "review_table = pd.read_sql_query('SELECT * FROM review', connection)\n",
    "#restaurant_table = pd.read_sql_query('SELECT * FROM restaurant', connection)\n",
    "reviewer_table = pd.read_sql_query('SELECT * FROM reviewer', connection)"
   ]
  },
  {
   "cell_type": "markdown",
   "metadata": {},
   "source": [
    "#### 5. Normalise Unicode encoding in reviewContent column (e.g. \"\\xa0\") in the review_table:"
   ]
  },
  {
   "cell_type": "code",
   "execution_count": 5,
   "metadata": {},
   "outputs": [],
   "source": [
    "series = pd.Series(review_table['reviewContent'])\n",
    "series = series.str.normalize(\"NFKD\")\n",
    "review_table['reviewContent'] = series.values"
   ]
  },
  {
   "cell_type": "markdown",
   "metadata": {},
   "source": [
    "#### 6. Extract genuine (\"N\", i.e. not filtered) and filtered (\"Y\", i.e. filtered) reviews from dataset:"
   ]
  },
  {
   "cell_type": "code",
   "execution_count": 6,
   "metadata": {},
   "outputs": [],
   "source": [
    "reviews = review_table[(review_table[\"flagged\"] == 'Y') | (review_table[\"flagged\"] == 'N')].reset_index(drop = True)"
   ]
  },
  {
   "cell_type": "code",
   "execution_count": 7,
   "metadata": {},
   "outputs": [
    {
     "name": "stdout",
     "output_type": "stream",
     "text": [
      "Number of reviews: 67019\n",
      "Number of genuine reviews: 58716\n",
      "Number of filtered reviews: 8303\n"
     ]
    }
   ],
   "source": [
    "number_of_reviews = len(reviews)\n",
    "number_of_genuine_reviews = (reviews[\"flagged\"] == 'N').sum()   \n",
    "number_of_filtered_reviews = (reviews[\"flagged\"] == 'Y').sum()   \n",
    "\n",
    "print(\"Number of reviews:\", number_of_reviews)\n",
    "print(\"Number of genuine reviews:\", number_of_genuine_reviews)\n",
    "print(\"Number of filtered reviews:\", number_of_filtered_reviews)"
   ]
  },
  {
   "cell_type": "code",
   "execution_count": 8,
   "metadata": {},
   "outputs": [
    {
     "data": {
      "text/plain": [
       "67019"
      ]
     },
     "execution_count": 8,
     "metadata": {},
     "output_type": "execute_result"
    }
   ],
   "source": [
    "# check if there are any duplicate reviews\n",
    "reviews[\"reviewID\"].nunique()\n",
    "\n",
    "# save file to csv for further inspection\n",
    "#df.to_csv(\"dataframe.csv\", encoding='utf-8', index=False)"
   ]
  },
  {
   "cell_type": "markdown",
   "metadata": {},
   "source": [
    "#### 7. Fix date column formatting and remove \"Updated -\" from date values"
   ]
  },
  {
   "cell_type": "code",
   "execution_count": 9,
   "metadata": {},
   "outputs": [
    {
     "name": "stdout",
     "output_type": "stream",
     "text": [
      "False    67016\n",
      "True         3\n",
      "Name: date, dtype: int64\n"
     ]
    }
   ],
   "source": [
    "# identify indeces containing \"Updated\" to remove the strings\n",
    "date_column = pd.Series(reviews[\"date\"])\n",
    "indeces = date_column.str.contains('updated', case=False, regex=True)\n",
    "print(indeces.value_counts())\n",
    "\n",
    "true_indeces = indeces[indeces == True].index"
   ]
  },
  {
   "cell_type": "code",
   "execution_count": 10,
   "metadata": {},
   "outputs": [
    {
     "name": "stdout",
     "output_type": "stream",
     "text": [
      "Updated - 2/20/2012\n",
      "Updated - 4/13/2012\n",
      "Updated - 1/8/2011\n"
     ]
    }
   ],
   "source": [
    "# print values to fix\n",
    "for index in range(0, len(true_indeces)):\n",
    "    print(date_column.iloc[true_indeces[index]])"
   ]
  },
  {
   "cell_type": "code",
   "execution_count": 11,
   "metadata": {},
   "outputs": [
    {
     "name": "stdout",
     "output_type": "stream",
     "text": [
      "False    67019\n",
      "Name: date, dtype: int64\n"
     ]
    }
   ],
   "source": [
    "# \"slice\" the individual values to remove \"Updated -\"\n",
    "for index in true_indeces:\n",
    "    date_column.iloc[index] = date_column.iloc[index][10:]\n",
    "    \n",
    "# check that update is successful\n",
    "indeces = date_column.str.contains('updated', case=False, regex=True)\n",
    "print(indeces.value_counts())"
   ]
  },
  {
   "cell_type": "code",
   "execution_count": 12,
   "metadata": {},
   "outputs": [],
   "source": [
    "# make date formatting consistent in the date column of the dataframe\n",
    "reviews[\"date\"] = date_column\n",
    "reviews[\"date\"] = pd.to_datetime(reviews[\"date\"])"
   ]
  },
  {
   "cell_type": "code",
   "execution_count": 13,
   "metadata": {},
   "outputs": [],
   "source": [
    "# save as .csv file to check dates are correct in Excel\n",
    "#reviews.to_csv(\"date_test.csv\", encoding='utf-8', index=False)"
   ]
  },
  {
   "cell_type": "code",
   "execution_count": 14,
   "metadata": {},
   "outputs": [
    {
     "name": "stdout",
     "output_type": "stream",
     "text": [
      "2011    17011\n",
      "2010    15492\n",
      "2012    10904\n",
      "2009    10778\n",
      "2008     7172\n",
      "2007     3852\n",
      "2006     1441\n",
      "2005      364\n",
      "2004        5\n",
      "Name: date, dtype: int64\n"
     ]
    }
   ],
   "source": [
    "# show count of reviews by year\n",
    "years = reviews[\"date\"].dt.year\n",
    "print(years.value_counts())"
   ]
  },
  {
   "cell_type": "markdown",
   "metadata": {},
   "source": [
    "#### Remove rows with empty reviews"
   ]
  },
  {
   "cell_type": "code",
   "execution_count": 15,
   "metadata": {},
   "outputs": [],
   "source": [
    "# remove empty reviews\n",
    "empty_review_index_list = [62005, 62792]\n",
    "reviews = reviews.drop(reviews.index[empty_review_index_list])\n",
    "\n",
    "reviews = reviews.sort_index()"
   ]
  },
  {
   "cell_type": "markdown",
   "metadata": {},
   "source": [
    "#### Extract subset of columns for the reviews dataframe:"
   ]
  },
  {
   "cell_type": "code",
   "execution_count": 90,
   "metadata": {},
   "outputs": [
    {
     "data": {
      "text/html": [
       "<div>\n",
       "<style scoped>\n",
       "    .dataframe tbody tr th:only-of-type {\n",
       "        vertical-align: middle;\n",
       "    }\n",
       "\n",
       "    .dataframe tbody tr th {\n",
       "        vertical-align: top;\n",
       "    }\n",
       "\n",
       "    .dataframe thead th {\n",
       "        text-align: right;\n",
       "    }\n",
       "</style>\n",
       "<table border=\"1\" class=\"dataframe\">\n",
       "  <thead>\n",
       "    <tr style=\"text-align: right;\">\n",
       "      <th></th>\n",
       "      <th>date</th>\n",
       "      <th>reviewerID</th>\n",
       "      <th>reviewContent</th>\n",
       "      <th>flagged</th>\n",
       "    </tr>\n",
       "  </thead>\n",
       "  <tbody>\n",
       "    <tr>\n",
       "      <td>0</td>\n",
       "      <td>2012-09-22</td>\n",
       "      <td>bNYesZ944s6IJVowOnB0iA</td>\n",
       "      <td>Unlike Next, which we'd eaten at the previous ...</td>\n",
       "      <td>N</td>\n",
       "    </tr>\n",
       "    <tr>\n",
       "      <td>1</td>\n",
       "      <td>2012-09-22</td>\n",
       "      <td>TRKxLC3y-ZvP45e5iilMtw</td>\n",
       "      <td>Probably one of the best meals I've had ever. ...</td>\n",
       "      <td>N</td>\n",
       "    </tr>\n",
       "    <tr>\n",
       "      <td>2</td>\n",
       "      <td>2012-09-19</td>\n",
       "      <td>0EMm8umAqXZzyhxNpL4M9g</td>\n",
       "      <td>Service was impeccable. Experience and present...</td>\n",
       "      <td>N</td>\n",
       "    </tr>\n",
       "    <tr>\n",
       "      <td>3</td>\n",
       "      <td>2012-09-06</td>\n",
       "      <td>DlwexC7z88ymAzu45skODw</td>\n",
       "      <td>The problem with places like this, given the e...</td>\n",
       "      <td>N</td>\n",
       "    </tr>\n",
       "    <tr>\n",
       "      <td>4</td>\n",
       "      <td>2012-09-09</td>\n",
       "      <td>kW2dk1CWihmh3g7k9N2G8A</td>\n",
       "      <td>I have no idea how to write my review - dining...</td>\n",
       "      <td>N</td>\n",
       "    </tr>\n",
       "    <tr>\n",
       "      <td>...</td>\n",
       "      <td>...</td>\n",
       "      <td>...</td>\n",
       "      <td>...</td>\n",
       "      <td>...</td>\n",
       "    </tr>\n",
       "    <tr>\n",
       "      <td>67012</td>\n",
       "      <td>2012-04-07</td>\n",
       "      <td>fUXNHG4x1AN9oPpBSpCtUw</td>\n",
       "      <td>I've passed this place a bunch of times on my ...</td>\n",
       "      <td>N</td>\n",
       "    </tr>\n",
       "    <tr>\n",
       "      <td>67013</td>\n",
       "      <td>2009-06-05</td>\n",
       "      <td>QQCm2oqSnnz24Z-yHeMtxQ</td>\n",
       "      <td>Rubino's is not really setup as a retail opera...</td>\n",
       "      <td>N</td>\n",
       "    </tr>\n",
       "    <tr>\n",
       "      <td>67014</td>\n",
       "      <td>2012-05-06</td>\n",
       "      <td>OXRKydSyzC35n2fNUnbopg</td>\n",
       "      <td>This place is amazing.  The food is great and ...</td>\n",
       "      <td>N</td>\n",
       "    </tr>\n",
       "    <tr>\n",
       "      <td>67015</td>\n",
       "      <td>2011-01-08</td>\n",
       "      <td>NE8ULc362aFvnkTDgvZbcA</td>\n",
       "      <td>OK went back the next day as I was driving by ...</td>\n",
       "      <td>N</td>\n",
       "    </tr>\n",
       "    <tr>\n",
       "      <td>67016</td>\n",
       "      <td>2010-01-25</td>\n",
       "      <td>VaPi2-eXcgIpRF_LGSJ_cA</td>\n",
       "      <td>Delicious, rather authentic Mexican food, must...</td>\n",
       "      <td>N</td>\n",
       "    </tr>\n",
       "  </tbody>\n",
       "</table>\n",
       "<p>67017 rows × 4 columns</p>\n",
       "</div>"
      ],
      "text/plain": [
       "            date              reviewerID  \\\n",
       "0     2012-09-22  bNYesZ944s6IJVowOnB0iA   \n",
       "1     2012-09-22  TRKxLC3y-ZvP45e5iilMtw   \n",
       "2     2012-09-19  0EMm8umAqXZzyhxNpL4M9g   \n",
       "3     2012-09-06  DlwexC7z88ymAzu45skODw   \n",
       "4     2012-09-09  kW2dk1CWihmh3g7k9N2G8A   \n",
       "...          ...                     ...   \n",
       "67012 2012-04-07  fUXNHG4x1AN9oPpBSpCtUw   \n",
       "67013 2009-06-05  QQCm2oqSnnz24Z-yHeMtxQ   \n",
       "67014 2012-05-06  OXRKydSyzC35n2fNUnbopg   \n",
       "67015 2011-01-08  NE8ULc362aFvnkTDgvZbcA   \n",
       "67016 2010-01-25  VaPi2-eXcgIpRF_LGSJ_cA   \n",
       "\n",
       "                                           reviewContent flagged  \n",
       "0      Unlike Next, which we'd eaten at the previous ...       N  \n",
       "1      Probably one of the best meals I've had ever. ...       N  \n",
       "2      Service was impeccable. Experience and present...       N  \n",
       "3      The problem with places like this, given the e...       N  \n",
       "4      I have no idea how to write my review - dining...       N  \n",
       "...                                                  ...     ...  \n",
       "67012  I've passed this place a bunch of times on my ...       N  \n",
       "67013  Rubino's is not really setup as a retail opera...       N  \n",
       "67014  This place is amazing.  The food is great and ...       N  \n",
       "67015  OK went back the next day as I was driving by ...       N  \n",
       "67016  Delicious, rather authentic Mexican food, must...       N  \n",
       "\n",
       "[67017 rows x 4 columns]"
      ]
     },
     "execution_count": 90,
     "metadata": {},
     "output_type": "execute_result"
    }
   ],
   "source": [
    "columns = [reviews[\"date\"], reviews[\"reviewerID\"], reviews[\"reviewContent\"], reviews[\"flagged\"]]\n",
    "headers = [\"date\",\"reviewerID\", \"reviewContent\", \"flagged\"]\n",
    "reviews = pd.concat(columns, axis=1, keys=headers).reset_index(drop = True)\n",
    "\n",
    "reviews"
   ]
  },
  {
   "cell_type": "code",
   "execution_count": 23,
   "metadata": {},
   "outputs": [],
   "source": [
    "# temporary - get usefulCount, coolCount and funnyCount features from dataframe\n",
    "columns = [reviews[\"usefulCount\"], reviews[\"coolCount\"], reviews[\"funnyCount\"]]\n",
    "headers = [\"usefulCount\",\"coolCount\", \"funnyCount\"]\n",
    "extra_features = pd.concat(columns, axis=1, keys=headers).reset_index(drop = True)\n",
    "\n",
    "# pickle\n",
    "extra_features.to_pickle(\"./extra_features.pkl\")"
   ]
  },
  {
   "cell_type": "markdown",
   "metadata": {},
   "source": [
    "#### Explore \"anonymous\" users "
   ]
  },
  {
   "cell_type": "code",
   "execution_count": 22,
   "metadata": {},
   "outputs": [],
   "source": [
    "# i.e., those not found in the reviewer table (from the exercise in the above cell)\n",
    "\n",
    "# \"anonymous\" means ID in reviews table but NOT in reviewerID\n",
    "anonymous_reviewers = []\n",
    "has_profile = []\n",
    "\n",
    "reviewers_in_table1 = pd.Series(list(reviews[\"reviewerID\"].unique()))\n",
    "reviewers_in_table2 = set(list(reviewer_table[\"reviewerID\"]))\n",
    "\n",
    "for reviewer in reviewers_in_table1:\n",
    "    if(reviewer not in reviewers_in_table2):\n",
    "        anonymous_reviewers.append(reviewer)\n",
    "        has_profile.append(0)\n",
    "    else:\n",
    "        has_profile.append(1)"
   ]
  },
  {
   "cell_type": "code",
   "execution_count": 1,
   "metadata": {},
   "outputs": [
    {
     "ename": "NameError",
     "evalue": "name 'reviews' is not defined",
     "output_type": "error",
     "traceback": [
      "\u001b[0;31m---------------------------------------------------------------------------\u001b[0m",
      "\u001b[0;31mNameError\u001b[0m                                 Traceback (most recent call last)",
      "\u001b[0;32m<ipython-input-1-fea11511cc50>\u001b[0m in \u001b[0;36m<module>\u001b[0;34m\u001b[0m\n\u001b[0;32m----> 1\u001b[0;31m \u001b[0mprint\u001b[0m\u001b[0;34m(\u001b[0m\u001b[0;34m\"Number of unique reviewers in reviews table: \"\u001b[0m\u001b[0;34m,\u001b[0m \u001b[0mlen\u001b[0m\u001b[0;34m(\u001b[0m\u001b[0mreviews\u001b[0m\u001b[0;34m[\u001b[0m\u001b[0;34m'reviewerID'\u001b[0m\u001b[0;34m]\u001b[0m\u001b[0;34m.\u001b[0m\u001b[0munique\u001b[0m\u001b[0;34m(\u001b[0m\u001b[0;34m)\u001b[0m\u001b[0;34m)\u001b[0m\u001b[0;34m)\u001b[0m\u001b[0;34m\u001b[0m\u001b[0;34m\u001b[0m\u001b[0m\n\u001b[0m\u001b[1;32m      2\u001b[0m print(\"Number of unique reviewers in reviewer table: \", \n\u001b[1;32m      3\u001b[0m       len(reviewer_table['reviewerID'].unique()))\n\u001b[1;32m      4\u001b[0m \u001b[0;34m\u001b[0m\u001b[0m\n\u001b[1;32m      5\u001b[0m \u001b[0mprint\u001b[0m\u001b[0;34m(\u001b[0m\u001b[0;34m\"Number of \\\"anonymous\\\" reviewers: \"\u001b[0m\u001b[0;34m,\u001b[0m \u001b[0mlen\u001b[0m\u001b[0;34m(\u001b[0m\u001b[0manonymous_reviewers\u001b[0m\u001b[0;34m)\u001b[0m\u001b[0;34m)\u001b[0m\u001b[0;34m\u001b[0m\u001b[0;34m\u001b[0m\u001b[0m\n",
      "\u001b[0;31mNameError\u001b[0m: name 'reviews' is not defined"
     ]
    }
   ],
   "source": [
    "print(\"Number of unique reviewers in reviews table: \", len(reviews['reviewerID'].unique()))\n",
    "print(\"Number of unique reviewers in reviewer table: \", \n",
    "      len(reviewer_table['reviewerID'].unique()))\n",
    "\n",
    "print(\"Number of \\\"anonymous\\\" reviewers: \", len(anonymous_reviewers))\n",
    "# e.g. reviewer ID \"xMYPc5tzV2PSryKFK_y1PQ\" is found in reviews but not reviewers table\n",
    "print()\n",
    "print(\"Examples of \\\"anonymous\\\" reviewers: \")\n",
    "print(\"Number of reviews in reviews table with reviewer ID xMYPc5tzV2PSryKFK_y1PQ: \", len(reviews[reviews[\"reviewerID\"] == \"xMYPc5tzV2PSryKFK_y1PQ\"]))\n",
    "print(\"Number of reviews in reviewers table with reviewer ID xMYPc5tzV2PSryKFK_y1PQ: \", len(reviewer_table[reviewer_table[\"reviewerID\"] == \"xMYPc5tzV2PSryKFK_y1PQ\"]))\n",
    "print()\n",
    "print(\"Number of reviews in reviews table with reviewer ID ciAaaK5kBPGM1y8CtkJtXQ: \", len(reviews[reviews[\"reviewerID\"] == \"ciAaaK5kBPGM1y8CtkJtXQ\"]))\n",
    "print(\"Number of reviews in reviewers table with reviewer ID ciAaaK5kBPGM1y8CtkJtXQ: \", len(reviewer_table[reviewer_table[\"reviewerID\"] == \"ciAaaK5kBPGM1y8CtkJtXQ\"]))"
   ]
  },
  {
   "cell_type": "code",
   "execution_count": 106,
   "metadata": {},
   "outputs": [
    {
     "data": {
      "text/html": [
       "<div>\n",
       "<style scoped>\n",
       "    .dataframe tbody tr th:only-of-type {\n",
       "        vertical-align: middle;\n",
       "    }\n",
       "\n",
       "    .dataframe tbody tr th {\n",
       "        vertical-align: top;\n",
       "    }\n",
       "\n",
       "    .dataframe thead th {\n",
       "        text-align: right;\n",
       "    }\n",
       "</style>\n",
       "<table border=\"1\" class=\"dataframe\">\n",
       "  <thead>\n",
       "    <tr style=\"text-align: right;\">\n",
       "      <th></th>\n",
       "      <th>date</th>\n",
       "      <th>reviewerID</th>\n",
       "      <th>reviewContent</th>\n",
       "      <th>flagged</th>\n",
       "      <th>hasProfile</th>\n",
       "    </tr>\n",
       "  </thead>\n",
       "  <tbody>\n",
       "    <tr>\n",
       "      <td>581</td>\n",
       "      <td>2008-05-16</td>\n",
       "      <td>xMYPc5tzV2PSryKFK_y1PQ</td>\n",
       "      <td>The meal was a 3.5 hour experience that had mo...</td>\n",
       "      <td>N</td>\n",
       "      <td>0</td>\n",
       "    </tr>\n",
       "    <tr>\n",
       "      <td>1422</td>\n",
       "      <td>2007-01-14</td>\n",
       "      <td>xMYPc5tzV2PSryKFK_y1PQ</td>\n",
       "      <td>I have been waiting forever to get encased mea...</td>\n",
       "      <td>N</td>\n",
       "      <td>0</td>\n",
       "    </tr>\n",
       "    <tr>\n",
       "      <td>3596</td>\n",
       "      <td>2009-03-22</td>\n",
       "      <td>xMYPc5tzV2PSryKFK_y1PQ</td>\n",
       "      <td>A definite guilty pleasure. Like someone wrote...</td>\n",
       "      <td>N</td>\n",
       "      <td>0</td>\n",
       "    </tr>\n",
       "    <tr>\n",
       "      <td>4399</td>\n",
       "      <td>2008-08-25</td>\n",
       "      <td>xMYPc5tzV2PSryKFK_y1PQ</td>\n",
       "      <td>My wife and I made it to Schwa last Friday eve...</td>\n",
       "      <td>N</td>\n",
       "      <td>0</td>\n",
       "    </tr>\n",
       "    <tr>\n",
       "      <td>8997</td>\n",
       "      <td>2007-01-05</td>\n",
       "      <td>xMYPc5tzV2PSryKFK_y1PQ</td>\n",
       "      <td>Go late or be prepared to wait. Seriously. We ...</td>\n",
       "      <td>N</td>\n",
       "      <td>0</td>\n",
       "    </tr>\n",
       "    <tr>\n",
       "      <td>11845</td>\n",
       "      <td>2007-09-04</td>\n",
       "      <td>xMYPc5tzV2PSryKFK_y1PQ</td>\n",
       "      <td>Come for the pizza, stay for the beer. The piz...</td>\n",
       "      <td>N</td>\n",
       "      <td>0</td>\n",
       "    </tr>\n",
       "    <tr>\n",
       "      <td>15479</td>\n",
       "      <td>2009-01-27</td>\n",
       "      <td>xMYPc5tzV2PSryKFK_y1PQ</td>\n",
       "      <td>There isn't a lunch this side of my grandmothe...</td>\n",
       "      <td>N</td>\n",
       "      <td>0</td>\n",
       "    </tr>\n",
       "    <tr>\n",
       "      <td>21375</td>\n",
       "      <td>2008-03-28</td>\n",
       "      <td>xMYPc5tzV2PSryKFK_y1PQ</td>\n",
       "      <td>Trip to the Gage was great on each end and a l...</td>\n",
       "      <td>N</td>\n",
       "      <td>0</td>\n",
       "    </tr>\n",
       "    <tr>\n",
       "      <td>24895</td>\n",
       "      <td>2008-03-23</td>\n",
       "      <td>xMYPc5tzV2PSryKFK_y1PQ</td>\n",
       "      <td>My favorite Chinese in all of Chicago. For tho...</td>\n",
       "      <td>N</td>\n",
       "      <td>0</td>\n",
       "    </tr>\n",
       "    <tr>\n",
       "      <td>24932</td>\n",
       "      <td>2007-01-05</td>\n",
       "      <td>xMYPc5tzV2PSryKFK_y1PQ</td>\n",
       "      <td>Very solid Costa Rican food (who are we kiddin...</td>\n",
       "      <td>N</td>\n",
       "      <td>0</td>\n",
       "    </tr>\n",
       "    <tr>\n",
       "      <td>27305</td>\n",
       "      <td>2008-11-19</td>\n",
       "      <td>xMYPc5tzV2PSryKFK_y1PQ</td>\n",
       "      <td>This place is what tapas should be everywhere....</td>\n",
       "      <td>N</td>\n",
       "      <td>0</td>\n",
       "    </tr>\n",
       "    <tr>\n",
       "      <td>29802</td>\n",
       "      <td>2008-06-03</td>\n",
       "      <td>xMYPc5tzV2PSryKFK_y1PQ</td>\n",
       "      <td>Spectacular food. Remarkable space and service...</td>\n",
       "      <td>N</td>\n",
       "      <td>0</td>\n",
       "    </tr>\n",
       "    <tr>\n",
       "      <td>30629</td>\n",
       "      <td>2007-01-05</td>\n",
       "      <td>xMYPc5tzV2PSryKFK_y1PQ</td>\n",
       "      <td>What more can be said about Frontera that hasn...</td>\n",
       "      <td>N</td>\n",
       "      <td>0</td>\n",
       "    </tr>\n",
       "    <tr>\n",
       "      <td>38911</td>\n",
       "      <td>2009-02-06</td>\n",
       "      <td>xMYPc5tzV2PSryKFK_y1PQ</td>\n",
       "      <td>After a hiatus, I was looking though my review...</td>\n",
       "      <td>N</td>\n",
       "      <td>0</td>\n",
       "    </tr>\n",
       "    <tr>\n",
       "      <td>41379</td>\n",
       "      <td>2006-12-14</td>\n",
       "      <td>xMYPc5tzV2PSryKFK_y1PQ</td>\n",
       "      <td>Great selection of Belgain beers and a nice, l...</td>\n",
       "      <td>N</td>\n",
       "      <td>0</td>\n",
       "    </tr>\n",
       "    <tr>\n",
       "      <td>45021</td>\n",
       "      <td>2007-04-17</td>\n",
       "      <td>xMYPc5tzV2PSryKFK_y1PQ</td>\n",
       "      <td>We are moving around the corner from Bon Soire...</td>\n",
       "      <td>N</td>\n",
       "      <td>0</td>\n",
       "    </tr>\n",
       "    <tr>\n",
       "      <td>45290</td>\n",
       "      <td>2006-12-16</td>\n",
       "      <td>xMYPc5tzV2PSryKFK_y1PQ</td>\n",
       "      <td>If you are feeling too much of the Chicago win...</td>\n",
       "      <td>N</td>\n",
       "      <td>0</td>\n",
       "    </tr>\n",
       "    <tr>\n",
       "      <td>51611</td>\n",
       "      <td>2009-02-01</td>\n",
       "      <td>xMYPc5tzV2PSryKFK_y1PQ</td>\n",
       "      <td>Uncommon Ground is a place that serves a good ...</td>\n",
       "      <td>N</td>\n",
       "      <td>0</td>\n",
       "    </tr>\n",
       "    <tr>\n",
       "      <td>53320</td>\n",
       "      <td>2009-04-19</td>\n",
       "      <td>xMYPc5tzV2PSryKFK_y1PQ</td>\n",
       "      <td>The brunch is out of this world. I can't see w...</td>\n",
       "      <td>N</td>\n",
       "      <td>0</td>\n",
       "    </tr>\n",
       "    <tr>\n",
       "      <td>55482</td>\n",
       "      <td>2009-02-03</td>\n",
       "      <td>xMYPc5tzV2PSryKFK_y1PQ</td>\n",
       "      <td>Being married to a woman who split time betwee...</td>\n",
       "      <td>N</td>\n",
       "      <td>0</td>\n",
       "    </tr>\n",
       "  </tbody>\n",
       "</table>\n",
       "</div>"
      ],
      "text/plain": [
       "            date              reviewerID  \\\n",
       "581   2008-05-16  xMYPc5tzV2PSryKFK_y1PQ   \n",
       "1422  2007-01-14  xMYPc5tzV2PSryKFK_y1PQ   \n",
       "3596  2009-03-22  xMYPc5tzV2PSryKFK_y1PQ   \n",
       "4399  2008-08-25  xMYPc5tzV2PSryKFK_y1PQ   \n",
       "8997  2007-01-05  xMYPc5tzV2PSryKFK_y1PQ   \n",
       "11845 2007-09-04  xMYPc5tzV2PSryKFK_y1PQ   \n",
       "15479 2009-01-27  xMYPc5tzV2PSryKFK_y1PQ   \n",
       "21375 2008-03-28  xMYPc5tzV2PSryKFK_y1PQ   \n",
       "24895 2008-03-23  xMYPc5tzV2PSryKFK_y1PQ   \n",
       "24932 2007-01-05  xMYPc5tzV2PSryKFK_y1PQ   \n",
       "27305 2008-11-19  xMYPc5tzV2PSryKFK_y1PQ   \n",
       "29802 2008-06-03  xMYPc5tzV2PSryKFK_y1PQ   \n",
       "30629 2007-01-05  xMYPc5tzV2PSryKFK_y1PQ   \n",
       "38911 2009-02-06  xMYPc5tzV2PSryKFK_y1PQ   \n",
       "41379 2006-12-14  xMYPc5tzV2PSryKFK_y1PQ   \n",
       "45021 2007-04-17  xMYPc5tzV2PSryKFK_y1PQ   \n",
       "45290 2006-12-16  xMYPc5tzV2PSryKFK_y1PQ   \n",
       "51611 2009-02-01  xMYPc5tzV2PSryKFK_y1PQ   \n",
       "53320 2009-04-19  xMYPc5tzV2PSryKFK_y1PQ   \n",
       "55482 2009-02-03  xMYPc5tzV2PSryKFK_y1PQ   \n",
       "\n",
       "                                           reviewContent flagged  hasProfile  \n",
       "581    The meal was a 3.5 hour experience that had mo...       N           0  \n",
       "1422   I have been waiting forever to get encased mea...       N           0  \n",
       "3596   A definite guilty pleasure. Like someone wrote...       N           0  \n",
       "4399   My wife and I made it to Schwa last Friday eve...       N           0  \n",
       "8997   Go late or be prepared to wait. Seriously. We ...       N           0  \n",
       "11845  Come for the pizza, stay for the beer. The piz...       N           0  \n",
       "15479  There isn't a lunch this side of my grandmothe...       N           0  \n",
       "21375  Trip to the Gage was great on each end and a l...       N           0  \n",
       "24895  My favorite Chinese in all of Chicago. For tho...       N           0  \n",
       "24932  Very solid Costa Rican food (who are we kiddin...       N           0  \n",
       "27305  This place is what tapas should be everywhere....       N           0  \n",
       "29802  Spectacular food. Remarkable space and service...       N           0  \n",
       "30629  What more can be said about Frontera that hasn...       N           0  \n",
       "38911  After a hiatus, I was looking though my review...       N           0  \n",
       "41379  Great selection of Belgain beers and a nice, l...       N           0  \n",
       "45021  We are moving around the corner from Bon Soire...       N           0  \n",
       "45290  If you are feeling too much of the Chicago win...       N           0  \n",
       "51611  Uncommon Ground is a place that serves a good ...       N           0  \n",
       "53320  The brunch is out of this world. I can't see w...       N           0  \n",
       "55482  Being married to a woman who split time betwee...       N           0  "
      ]
     },
     "execution_count": 106,
     "metadata": {},
     "output_type": "execute_result"
    }
   ],
   "source": [
    "reviews[reviews[\"reviewerID\"] == \"xMYPc5tzV2PSryKFK_y1PQ\"]\n",
    "# for this particular reviewer, we can see that they are not present in the reviewers' table, yet have posted \n",
    "# many times at different dates, from 2007-2009"
   ]
  },
  {
   "cell_type": "code",
   "execution_count": 122,
   "metadata": {},
   "outputs": [
    {
     "name": "stdout",
     "output_type": "stream",
     "text": [
      "Proportion of fake reviews by reviewers with a profile: \n",
      "0.23015284166790326\n",
      "Proportion of genuine reviews by reviewers with a profile: \n",
      "0.7698471583320967\n",
      "Total:  26956\n",
      "\n",
      "Proportion of fake reviews by reviewers without a profile: \n",
      "0.05234517361024438\n",
      "Proportion of genuine reviews by reviewers without a profile: \n",
      "0.9476548263897556\n",
      "Total:  40061\n"
     ]
    }
   ],
   "source": [
    "# check if any two groups of users do not have fake reviews\n",
    "x1 = len(reviews[(reviews['hasProfile'] == 1) & (reviews['flagged'] == 'Y' )])\n",
    "x2 = len(reviews[(reviews['hasProfile'] == 1) & (reviews['flagged'] == 'N' )])\n",
    "print(\"Proportion of fake reviews by reviewers with a profile: \")\n",
    "print(x1 / (x1 + x2))\n",
    "print(\"Proportion of genuine reviews by reviewers with a profile: \")\n",
    "print(x2 / (x1 + x2))\n",
    "print(\"Total: \", x1 + x2)\n",
    "print()\n",
    "x3 = len(reviews[(reviews['hasProfile'] == 0) & (reviews['flagged'] == 'Y' )])\n",
    "x4 = len(reviews[(reviews['hasProfile'] == 0) & (reviews['flagged'] == 'N' )])\n",
    "print(\"Proportion of fake reviews by reviewers without a profile: \")\n",
    "print(x3 / (x3 + x4))\n",
    "print(\"Proportion of genuine reviews by reviewers without a profile: \")\n",
    "print(x4 / (x3 + x4))\n",
    "print(\"Total: \", x3 + x4)"
   ]
  },
  {
   "cell_type": "code",
   "execution_count": 94,
   "metadata": {},
   "outputs": [],
   "source": [
    "# add column in reviews table to indicate whether a reviewer is \"anonymous\"\n",
    "reviews[\"hasProfile\"] = has_profile"
   ]
  },
  {
   "cell_type": "markdown",
   "metadata": {},
   "source": [
    "#### Pickle (serialise) the prepared dataframe objects to be loaded later"
   ]
  },
  {
   "cell_type": "code",
   "execution_count": 100,
   "metadata": {},
   "outputs": [],
   "source": [
    "reviews.to_pickle(\"./reviews.pkl\")"
   ]
  },
  {
   "cell_type": "markdown",
   "metadata": {},
   "source": [
    "#### Close cursor and connection to database after use:"
   ]
  },
  {
   "cell_type": "code",
   "execution_count": 46,
   "metadata": {},
   "outputs": [],
   "source": [
    "cur.close()\n",
    "connection.close()"
   ]
  }
 ],
 "metadata": {
  "kernelspec": {
   "display_name": "Python 3",
   "language": "python",
   "name": "python3"
  },
  "language_info": {
   "codemirror_mode": {
    "name": "ipython",
    "version": 3
   },
   "file_extension": ".py",
   "mimetype": "text/x-python",
   "name": "python",
   "nbconvert_exporter": "python",
   "pygments_lexer": "ipython3",
   "version": "3.7.4"
  }
 },
 "nbformat": 4,
 "nbformat_minor": 2
}
